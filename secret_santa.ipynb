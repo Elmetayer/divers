{
 "cells": [
  {
   "cell_type": "code",
   "execution_count": 40,
   "metadata": {},
   "outputs": [],
   "source": [
    "import numpy as np\n",
    "import pandas as pd\n",
    "import json\n",
    "import networkx as nx\n",
    "import itertools\n",
    "import matplotlib"
   ]
  },
  {
   "cell_type": "code",
   "execution_count": 22,
   "metadata": {},
   "outputs": [],
   "source": [
    "# fonction pour générer les résultats du secret santa\n",
    "def secret_santa(liste_participants, config):\n",
    "    '''\n",
    "    la fonction prend en arguments une liste de participants, et une configuration qui définit:\n",
    "    - les relations offrant > recevant prédéfinies\n",
    "    - les relations offrant > recevant à exclure  \n",
    "    elle renvoie une liste de couples (offrant, recevant)\n",
    "    '''\n",
    "    resultats = []\n",
    "    offrants_restant = liste_participants.copy()\n",
    "    recevants_restant = liste_participants.copy()\n",
    "    exclusions = config['exclusions'].copy()\n",
    "    obligations = config['obligations'].copy()\n",
    "\n",
    "    # on traite d'abord les obligations\n",
    "    print('traitement des obligations')\n",
    "    for offrant, recevant in obligations:\n",
    "        print('offrant: {}, recevant: {}'.format(offrant, recevant))\n",
    "        resultats.append((offrant, recevant))\n",
    "        offrants_restant.pop(offrants_restant.index(offrant))\n",
    "        recevants_restant.pop(recevants_restant.index(recevant))\n",
    "        \n",
    "    # on parcours au hasard la liste des participants\n",
    "    print('parcours de la liste')\n",
    "    for i_offrant_a_traiter in np.random.permutation(len(offrants_restant)):\n",
    "        offrant_a_traiter = offrants_restant[i_offrant_a_traiter]\n",
    "        print('offrant: {}'.format(offrant_a_traiter))\n",
    "        # on tire au hasard les recevants restants\n",
    "        for i_recevant_possible in np.random.permutation(len(recevants_restant)):\n",
    "            recevant_a_traiter = recevants_restant[i_recevant_possible]\n",
    "            print('recevant: {}'.format(recevant_a_traiter))\n",
    "            # vérification des exclusions\n",
    "            if (offrant_a_traiter, recevant_a_traiter) not in exclusions and offrant_a_traiter != recevant_a_traiter:\n",
    "                resultats.append((offrant_a_traiter, recevant_a_traiter))\n",
    "                recevants_restant.pop(i_recevant_possible)\n",
    "                break\n",
    "            else:\n",
    "                continue\n",
    "    return(resultats)"
   ]
  },
  {
   "cell_type": "code",
   "execution_count": 24,
   "metadata": {},
   "outputs": [
    {
     "data": {
      "text/html": [
       "<div>\n",
       "<style scoped>\n",
       "    .dataframe tbody tr th:only-of-type {\n",
       "        vertical-align: middle;\n",
       "    }\n",
       "\n",
       "    .dataframe tbody tr th {\n",
       "        vertical-align: top;\n",
       "    }\n",
       "\n",
       "    .dataframe thead th {\n",
       "        text-align: right;\n",
       "    }\n",
       "</style>\n",
       "<table border=\"1\" class=\"dataframe\">\n",
       "  <thead>\n",
       "    <tr style=\"text-align: right;\">\n",
       "      <th></th>\n",
       "      <th>offrant</th>\n",
       "      <th>recevant</th>\n",
       "    </tr>\n",
       "  </thead>\n",
       "  <tbody>\n",
       "    <tr>\n",
       "      <th>0</th>\n",
       "      <td>Bruno</td>\n",
       "      <td>Papa</td>\n",
       "    </tr>\n",
       "    <tr>\n",
       "      <th>1</th>\n",
       "      <td>Didier</td>\n",
       "      <td>Maman</td>\n",
       "    </tr>\n",
       "    <tr>\n",
       "      <th>2</th>\n",
       "      <td>Cécile</td>\n",
       "      <td>Anne</td>\n",
       "    </tr>\n",
       "    <tr>\n",
       "      <th>3</th>\n",
       "      <td>Maman</td>\n",
       "      <td>Mamy</td>\n",
       "    </tr>\n",
       "    <tr>\n",
       "      <th>4</th>\n",
       "      <td>Mamy</td>\n",
       "      <td>Bruno</td>\n",
       "    </tr>\n",
       "    <tr>\n",
       "      <th>5</th>\n",
       "      <td>Papa</td>\n",
       "      <td>Didier</td>\n",
       "    </tr>\n",
       "    <tr>\n",
       "      <th>6</th>\n",
       "      <td>Anne</td>\n",
       "      <td>Cécile</td>\n",
       "    </tr>\n",
       "  </tbody>\n",
       "</table>\n",
       "</div>"
      ],
      "text/plain": [
       "  offrant recevant\n",
       "0   Bruno     Papa\n",
       "1  Didier    Maman\n",
       "2  Cécile     Anne\n",
       "3   Maman     Mamy\n",
       "4    Mamy    Bruno\n",
       "5    Papa   Didier\n",
       "6    Anne   Cécile"
      ]
     },
     "execution_count": 24,
     "metadata": {},
     "output_type": "execute_result"
    }
   ],
   "source": [
    "liste_participants = ['Papa', 'Maman', 'Didier', 'Anne', 'Cécile', 'Mamy', 'Bruno']\n",
    "config = {\n",
    "    'exclusions':[\n",
    "        ('Papa', 'Maman'),\n",
    "        ('Maman', 'Papa'),\n",
    "        ('Cecile', 'Bruno'),\n",
    "        ('Bruno', 'Cecile'),\n",
    "        ('Anne', 'Didier'),\n",
    "        ('Didier', 'Anne')],\n",
    "    'obligations':[\n",
    "        ('Bruno', 'Papa'),\n",
    "        ('Didier', 'Maman')]\n",
    "}\n",
    "secret_santa_results = secret_santa(liste_participants, config)\n",
    "pd.DataFrame(secret_santa_results, columns = ['offrant', 'recevant'])"
   ]
  },
  {
   "cell_type": "code",
   "execution_count": 25,
   "metadata": {},
   "outputs": [
    {
     "data": {
      "text/html": [
       "<div>\n",
       "<style scoped>\n",
       "    .dataframe tbody tr th:only-of-type {\n",
       "        vertical-align: middle;\n",
       "    }\n",
       "\n",
       "    .dataframe tbody tr th {\n",
       "        vertical-align: top;\n",
       "    }\n",
       "\n",
       "    .dataframe thead th {\n",
       "        text-align: right;\n",
       "    }\n",
       "</style>\n",
       "<table border=\"1\" class=\"dataframe\">\n",
       "  <thead>\n",
       "    <tr style=\"text-align: right;\">\n",
       "      <th></th>\n",
       "      <th>offrant</th>\n",
       "      <th>recevant</th>\n",
       "    </tr>\n",
       "  </thead>\n",
       "  <tbody>\n",
       "    <tr>\n",
       "      <th>0</th>\n",
       "      <td>DUMAS Jonathan</td>\n",
       "      <td>DUSSARTRE Virginie</td>\n",
       "    </tr>\n",
       "    <tr>\n",
       "      <th>1</th>\n",
       "      <td>MOTHE Axel</td>\n",
       "      <td>LEMETAYER Bruno</td>\n",
       "    </tr>\n",
       "    <tr>\n",
       "      <th>2</th>\n",
       "      <td>TERRIER Viktor</td>\n",
       "      <td>DUMAS Jonathan</td>\n",
       "    </tr>\n",
       "    <tr>\n",
       "      <th>3</th>\n",
       "      <td>DUSSARTRE Virginie</td>\n",
       "      <td>TERRIER Viktor</td>\n",
       "    </tr>\n",
       "    <tr>\n",
       "      <th>4</th>\n",
       "      <td>FINET Sebastien</td>\n",
       "      <td>HAMDANE Ibtissam</td>\n",
       "    </tr>\n",
       "    <tr>\n",
       "      <th>5</th>\n",
       "      <td>COGEN Florent</td>\n",
       "      <td>GIROD Marie</td>\n",
       "    </tr>\n",
       "    <tr>\n",
       "      <th>6</th>\n",
       "      <td>ARULPRAGASAM Steven</td>\n",
       "      <td>LITTLE Emily</td>\n",
       "    </tr>\n",
       "    <tr>\n",
       "      <th>7</th>\n",
       "      <td>LITTLE Emily</td>\n",
       "      <td>MOTHE Axel</td>\n",
       "    </tr>\n",
       "    <tr>\n",
       "      <th>8</th>\n",
       "      <td>BUSTARRET Quentin</td>\n",
       "      <td>ARULPRAGASAM Steven</td>\n",
       "    </tr>\n",
       "    <tr>\n",
       "      <th>9</th>\n",
       "      <td>LEMETAYER Bruno</td>\n",
       "      <td>BUSTARRET Quentin</td>\n",
       "    </tr>\n",
       "    <tr>\n",
       "      <th>10</th>\n",
       "      <td>HAMDANE Ibtissam</td>\n",
       "      <td>FINET Sebastien</td>\n",
       "    </tr>\n",
       "    <tr>\n",
       "      <th>11</th>\n",
       "      <td>GIROD Marie</td>\n",
       "      <td>COGEN Florent</td>\n",
       "    </tr>\n",
       "  </tbody>\n",
       "</table>\n",
       "</div>"
      ],
      "text/plain": [
       "                offrant             recevant\n",
       "0        DUMAS Jonathan   DUSSARTRE Virginie\n",
       "1            MOTHE Axel      LEMETAYER Bruno\n",
       "2        TERRIER Viktor       DUMAS Jonathan\n",
       "3    DUSSARTRE Virginie       TERRIER Viktor\n",
       "4       FINET Sebastien     HAMDANE Ibtissam\n",
       "5         COGEN Florent          GIROD Marie\n",
       "6   ARULPRAGASAM Steven         LITTLE Emily\n",
       "7          LITTLE Emily           MOTHE Axel\n",
       "8     BUSTARRET Quentin  ARULPRAGASAM Steven\n",
       "9       LEMETAYER Bruno    BUSTARRET Quentin\n",
       "10     HAMDANE Ibtissam      FINET Sebastien\n",
       "11          GIROD Marie        COGEN Florent"
      ]
     },
     "execution_count": 25,
     "metadata": {},
     "output_type": "execute_result"
    }
   ],
   "source": [
    "liste_participants = ['TERRIER Viktor', 'FINET Sebastien', 'GIROD Marie', 'COGEN Florent', 'DUMAS Jonathan', 'LITTLE Emily', 'DUSSARTRE Virginie', 'HAMDANE Ibtissam', \n",
    "                      'ARULPRAGASAM Steven', 'MOTHE Axel', 'BUSTARRET Quentin', 'LEMETAYER Bruno']\n",
    "config = {\n",
    "    'exclusions':[],\n",
    "    'obligations':[]}\n",
    "secret_santa_results = secret_santa(liste_participants, config)\n",
    "pd.DataFrame(secret_santa_results, columns = ['offrant', 'recevant'])"
   ]
  },
  {
   "cell_type": "code",
   "execution_count": 27,
   "metadata": {},
   "outputs": [
    {
     "data": {
      "text/html": [
       "<div>\n",
       "<style scoped>\n",
       "    .dataframe tbody tr th:only-of-type {\n",
       "        vertical-align: middle;\n",
       "    }\n",
       "\n",
       "    .dataframe tbody tr th {\n",
       "        vertical-align: top;\n",
       "    }\n",
       "\n",
       "    .dataframe thead th {\n",
       "        text-align: right;\n",
       "    }\n",
       "</style>\n",
       "<table border=\"1\" class=\"dataframe\">\n",
       "  <thead>\n",
       "    <tr style=\"text-align: right;\">\n",
       "      <th></th>\n",
       "      <th>offrant</th>\n",
       "      <th>recevant</th>\n",
       "    </tr>\n",
       "  </thead>\n",
       "  <tbody>\n",
       "    <tr>\n",
       "      <th>0</th>\n",
       "      <td>Bruno</td>\n",
       "      <td>Papa</td>\n",
       "    </tr>\n",
       "    <tr>\n",
       "      <th>1</th>\n",
       "      <td>Didier</td>\n",
       "      <td>Maman</td>\n",
       "    </tr>\n",
       "    <tr>\n",
       "      <th>2</th>\n",
       "      <td>Anne</td>\n",
       "      <td>Didier</td>\n",
       "    </tr>\n",
       "    <tr>\n",
       "      <th>3</th>\n",
       "      <td>Papa</td>\n",
       "      <td>Mamy</td>\n",
       "    </tr>\n",
       "    <tr>\n",
       "      <th>4</th>\n",
       "      <td>Cécile</td>\n",
       "      <td>Bruno</td>\n",
       "    </tr>\n",
       "    <tr>\n",
       "      <th>5</th>\n",
       "      <td>Maman</td>\n",
       "      <td>Cécile</td>\n",
       "    </tr>\n",
       "    <tr>\n",
       "      <th>6</th>\n",
       "      <td>Mamy</td>\n",
       "      <td>Anne</td>\n",
       "    </tr>\n",
       "  </tbody>\n",
       "</table>\n",
       "</div>"
      ],
      "text/plain": [
       "  offrant recevant\n",
       "0   Bruno     Papa\n",
       "1  Didier    Maman\n",
       "2    Anne   Didier\n",
       "3    Papa     Mamy\n",
       "4  Cécile    Bruno\n",
       "5   Maman   Cécile\n",
       "6    Mamy     Anne"
      ]
     },
     "execution_count": 27,
     "metadata": {},
     "output_type": "execute_result"
    }
   ],
   "source": [
    "with open('data/config_famille.json') as f:\n",
    "    config = json.load(f)\n",
    "liste_participants = pd.read_csv('data/participants_famille.csv', header=None, names=['participants'])['participants'].to_list()\n",
    "\n",
    "secret_santa_results = secret_santa(liste_participants, config)\n",
    "pd.DataFrame(secret_santa_results, columns = ['offrant', 'recevant'])"
   ]
  },
  {
   "cell_type": "code",
   "execution_count": 25,
   "metadata": {},
   "outputs": [
    {
     "name": "stdout",
     "output_type": "stream",
     "text": [
      "traitement des obligations\n",
      "offrant: Alpha, recevant: Beta\n",
      "parcours de la liste\n",
      "offrant: Gamma\n",
      "recevant: Alpha\n",
      "offrant: Beta\n",
      "recevant: Omega\n",
      "offrant: Omega\n",
      "recevant: Gamma\n",
      "offrant: Delta\n",
      "recevant: Delta\n"
     ]
    },
    {
     "data": {
      "text/html": [
       "<div>\n",
       "<style scoped>\n",
       "    .dataframe tbody tr th:only-of-type {\n",
       "        vertical-align: middle;\n",
       "    }\n",
       "\n",
       "    .dataframe tbody tr th {\n",
       "        vertical-align: top;\n",
       "    }\n",
       "\n",
       "    .dataframe thead th {\n",
       "        text-align: right;\n",
       "    }\n",
       "</style>\n",
       "<table border=\"1\" class=\"dataframe\">\n",
       "  <thead>\n",
       "    <tr style=\"text-align: right;\">\n",
       "      <th></th>\n",
       "      <th>offrant</th>\n",
       "      <th>recevant</th>\n",
       "    </tr>\n",
       "  </thead>\n",
       "  <tbody>\n",
       "    <tr>\n",
       "      <th>0</th>\n",
       "      <td>Alpha</td>\n",
       "      <td>Beta</td>\n",
       "    </tr>\n",
       "    <tr>\n",
       "      <th>1</th>\n",
       "      <td>Gamma</td>\n",
       "      <td>Alpha</td>\n",
       "    </tr>\n",
       "    <tr>\n",
       "      <th>2</th>\n",
       "      <td>Beta</td>\n",
       "      <td>Omega</td>\n",
       "    </tr>\n",
       "    <tr>\n",
       "      <th>3</th>\n",
       "      <td>Omega</td>\n",
       "      <td>Gamma</td>\n",
       "    </tr>\n",
       "  </tbody>\n",
       "</table>\n",
       "</div>"
      ],
      "text/plain": [
       "  offrant recevant\n",
       "0   Alpha     Beta\n",
       "1   Gamma    Alpha\n",
       "2    Beta    Omega\n",
       "3   Omega    Gamma"
      ]
     },
     "execution_count": 25,
     "metadata": {},
     "output_type": "execute_result"
    }
   ],
   "source": [
    "with open('config_exemple.json') as f:\n",
    "    config = json.load(f)\n",
    "liste_participants = pd.read_csv('participants_exemple.csv', header=None, names=['participants'])['participants'].to_list()\n",
    "\n",
    "secret_santa_results = secret_santa(liste_participants, config)\n",
    "pd.DataFrame(secret_santa_results, columns = ['offrant', 'recevant'])"
   ]
  },
  {
   "cell_type": "markdown",
   "metadata": {},
   "source": [
    "# Avec des graphes"
   ]
  },
  {
   "cell_type": "code",
   "execution_count": 90,
   "metadata": {},
   "outputs": [
    {
     "data": {
      "image/png": "[encoded data removed]",
      "text/plain": [
       "<Figure size 640x480 with 1 Axes>"
      ]
     },
     "metadata": {},
     "output_type": "display_data"
    }
   ],
   "source": [
    "exclusions = config['exclusions'].copy()\n",
    "edge_list = pd.DataFrame(\n",
    "    [(item[0], item[1]) for item in itertools.product(liste_participants, liste_participants) if item[0] != item[1] and [item[0], item[1]] not in exclusions], \n",
    "    columns = ['offrant', 'recevant'])\n",
    "G = nx.from_pandas_edgelist(\n",
    "    edge_list, \n",
    "    source = 'offrant',\n",
    "    target =  'recevant',\n",
    "    create_using = nx.DiGraph())\n",
    "nx.draw(G)\n"
   ]
  },
  {
   "cell_type": "code",
   "execution_count": 91,
   "metadata": {},
   "outputs": [
    {
     "name": "stdout",
     "output_type": "stream",
     "text": [
      "traitement des obligations\n",
      "offrant: Alpha, recevant: Beta\n"
     ]
    },
    {
     "data": {
      "image/png": "[encoded data removed]",
      "text/plain": [
       "<Figure size 640x480 with 1 Axes>"
      ]
     },
     "metadata": {},
     "output_type": "display_data"
    }
   ],
   "source": [
    "obligations = config['obligations'].copy()\n",
    "offrants_restant = liste_participants.copy()\n",
    "\n",
    "# on traite d'abord les obligations\n",
    "print('traitement des obligations')\n",
    "for offrant, recevant in obligations:\n",
    "    print('offrant: {}, recevant: {}'.format(offrant, recevant))\n",
    "    # on enlève les recevants qui ne sont pas celui de l'obligation\n",
    "    G.remove_edges_from([(offrant, target) for target in G[offrant] if target != recevant])\n",
    "    offrants_restant.pop(offrants_restant.index(offrant))\n",
    "nx.draw(G)"
   ]
  },
  {
   "cell_type": "code",
   "execution_count": 92,
   "metadata": {},
   "outputs": [
    {
     "name": "stdout",
     "output_type": "stream",
     "text": [
      "parcours de la liste\n",
      "offrant à traiter: Gamma\n",
      "recevant choisi: Alpha\n",
      "offrant à traiter: Omega\n",
      "recevant choisi: Gamma\n",
      "offrant à traiter: Delta\n",
      "recevant choisi: Gamma\n",
      "offrant à traiter: Beta\n",
      "recevant choisi: Gamma\n"
     ]
    }
   ],
   "source": [
    "# on parcours au hasard la liste des participants\n",
    "print('parcours de la liste')\n",
    "for i_offrant_a_traiter in np.random.permutation(len(offrants_restant)):\n",
    "    offrant_a_traiter = offrants_restant[i_offrant_a_traiter]\n",
    "    print('offrant à traiter: {}'.format(offrant_a_traiter))\n",
    "    # on tire au hasard les recevants restants parmi les target \n",
    "    recevant_a_traiter = list(G[offrant_a_traiter])[np.random.randint(len(G[offrant_a_traiter]))]\n",
    "    print('recevant choisi: {}'.format(recevant_a_traiter))\n",
    "    # on enlève les recevants qui ne sont pas celui de l'obligation\n",
    "    G.remove_edges_from([(offrant_a_traiter, target) for target in G[offrant_a_traiter] if target != recevant_a_traiter])\n",
    "    "
   ]
  },
  {
   "cell_type": "code",
   "execution_count": 95,
   "metadata": {},
   "outputs": [
    {
     "data": {
      "text/html": [
       "<div>\n",
       "<style scoped>\n",
       "    .dataframe tbody tr th:only-of-type {\n",
       "        vertical-align: middle;\n",
       "    }\n",
       "\n",
       "    .dataframe tbody tr th {\n",
       "        vertical-align: top;\n",
       "    }\n",
       "\n",
       "    .dataframe thead th {\n",
       "        text-align: right;\n",
       "    }\n",
       "</style>\n",
       "<table border=\"1\" class=\"dataframe\">\n",
       "  <thead>\n",
       "    <tr style=\"text-align: right;\">\n",
       "      <th></th>\n",
       "      <th>offrant</th>\n",
       "      <th>recevant</th>\n",
       "    </tr>\n",
       "  </thead>\n",
       "  <tbody>\n",
       "    <tr>\n",
       "      <th>0</th>\n",
       "      <td>Alpha</td>\n",
       "      <td>Beta</td>\n",
       "    </tr>\n",
       "    <tr>\n",
       "      <th>1</th>\n",
       "      <td>Beta</td>\n",
       "      <td>Gamma</td>\n",
       "    </tr>\n",
       "    <tr>\n",
       "      <th>2</th>\n",
       "      <td>Gamma</td>\n",
       "      <td>Alpha</td>\n",
       "    </tr>\n",
       "    <tr>\n",
       "      <th>3</th>\n",
       "      <td>Omega</td>\n",
       "      <td>Gamma</td>\n",
       "    </tr>\n",
       "    <tr>\n",
       "      <th>4</th>\n",
       "      <td>Delta</td>\n",
       "      <td>Gamma</td>\n",
       "    </tr>\n",
       "  </tbody>\n",
       "</table>\n",
       "</div>"
      ],
      "text/plain": [
       "  offrant recevant\n",
       "0   Alpha     Beta\n",
       "1    Beta    Gamma\n",
       "2   Gamma    Alpha\n",
       "3   Omega    Gamma\n",
       "4   Delta    Gamma"
      ]
     },
     "execution_count": 95,
     "metadata": {},
     "output_type": "execute_result"
    }
   ],
   "source": [
    "pd.DataFrame(list(G.edges), columns = ['offrant', 'recevant'])"
   ]
  },
  {
   "cell_type": "code",
   "execution_count": null,
   "metadata": {},
   "outputs": [],
   "source": []
  }
 ],
 "metadata": {
  "kernelspec": {
   "display_name": "python_autres",
   "language": "python",
   "name": "python3"
  },
  "language_info": {
   "codemirror_mode": {
    "name": "ipython",
    "version": 3
   },
   "file_extension": ".py",
   "mimetype": "text/x-python",
   "name": "python",
   "nbconvert_exporter": "python",
   "pygments_lexer": "ipython3",
   "version": "3.8.9"
  }
 },
 "nbformat": 4,
 "nbformat_minor": 2
}
